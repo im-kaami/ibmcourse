{
 "cells": [
  {
   "cell_type": "markdown",
   "id": "6e118f30",
   "metadata": {},
   "source": [
    "# Data Science Tools and Ecosystem"
   ]
  },
  {
   "cell_type": "markdown",
   "id": "336e7694",
   "metadata": {},
   "source": [
    "In this notebook, Data Science Tools and Ecosystem are summarized."
   ]
  },
  {
   "cell_type": "markdown",
   "id": "c1afcdde",
   "metadata": {},
   "source": [
    "Objectives:\n",
    "* List popular languages for Data Science\n",
    "* List commonly used libraries used by Data Scientists\n",
    "* Create a markdown cell with a table of Data Science tools\n",
    "* Create a markdown cell introducing arithmetic expression examples\n",
    "* Create a code cell to convert minutes to hours"
   ]
  },
  {
   "cell_type": "markdown",
   "id": "4e755ef9",
   "metadata": {},
   "source": [
    "Some of the popular languages that Data Scientists use are:\n",
    "1) Python\n",
    "2) R\n",
    "3) Julia\n",
    "4) SQL"
   ]
  },
  {
   "cell_type": "markdown",
   "id": "87eeedc5",
   "metadata": {},
   "source": [
    "Some of the commonly used libraries used by Data Scientists include:\n",
    "1) Pandas\n",
    "2) NumPy\n",
    "3) scikit-learn\n",
    "4) TensorFlow\n",
    "5) PyTorch"
   ]
  },
  {
   "cell_type": "markdown",
   "id": "5faf32cf",
   "metadata": {},
   "source": [
    "| Data Science Tools | \n",
    "| -------------| \n",
    "| Juputer Notebook |\n",
    "| RStudio | \n",
    "| Visual Studio Code (VS Code) | \n",
    "\n"
   ]
  },
  {
   "cell_type": "markdown",
   "id": "0f48212f",
   "metadata": {},
   "source": [
    "### Below are a few examples of evaluating arithmetic expressions in Python"
   ]
  },
  {
   "cell_type": "code",
   "execution_count": 1,
   "id": "37e1ade2",
   "metadata": {},
   "outputs": [],
   "source": [
    "# This a simple arithmetic expression to mutiply then add integers\n",
    "\n",
    "ae = (3*4)+5"
   ]
  },
  {
   "cell_type": "code",
   "execution_count": 2,
   "id": "1a6290d9",
   "metadata": {},
   "outputs": [
    {
     "name": "stdout",
     "output_type": "stream",
     "text": [
      "17\n"
     ]
    }
   ],
   "source": [
    "print(ae)"
   ]
  },
  {
   "cell_type": "code",
   "execution_count": 3,
   "id": "35416610",
   "metadata": {},
   "outputs": [
    {
     "name": "stdout",
     "output_type": "stream",
     "text": [
      "3.3333333333333335\n"
     ]
    }
   ],
   "source": [
    "# This will convert 200 minutes to hours by diving by 60\n",
    "\n",
    "minutes = 200\n",
    "hours = minutes/60\n",
    "print(hours)"
   ]
  },
  {
   "cell_type": "markdown",
   "id": "dbfdbebf",
   "metadata": {},
   "source": [
    "## Author\n",
    "Muhammad Ikram Hafeez"
   ]
  },
  {
   "cell_type": "code",
   "execution_count": null,
   "id": "c5eacd17",
   "metadata": {},
   "outputs": [],
   "source": []
  }
 ],
 "metadata": {
  "kernelspec": {
   "display_name": "Python 3 (ipykernel)",
   "language": "python",
   "name": "python3"
  },
  "language_info": {
   "codemirror_mode": {
    "name": "ipython",
    "version": 3
   },
   "file_extension": ".py",
   "mimetype": "text/x-python",
   "name": "python",
   "nbconvert_exporter": "python",
   "pygments_lexer": "ipython3",
   "version": "3.11.5"
  }
 },
 "nbformat": 4,
 "nbformat_minor": 5
}
